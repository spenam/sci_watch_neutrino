{
 "cells": [
  {
   "cell_type": "code",
   "execution_count": 1,
   "metadata": {},
   "outputs": [],
   "source": [
    "using DelimitedFiles"
   ]
  },
  {
   "cell_type": "markdown",
   "metadata": {},
   "source": [
    "### Search in an array function"
   ]
  },
  {
   "cell_type": "code",
   "execution_count": 2,
   "metadata": {},
   "outputs": [
    {
     "data": {
      "text/plain": [
       "searchsortednearest (generic function with 1 method)"
      ]
     },
     "execution_count": 2,
     "metadata": {},
     "output_type": "execute_result"
    }
   ],
   "source": [
    "function searchsortednearest(a,x)\n",
    "   idx = searchsortedfirst(a,x)\n",
    "   if (idx==1); return idx; end\n",
    "   if (idx>length(a)); return length(a); end\n",
    "   if (a[idx]==x); return idx; end\n",
    "   if (abs(a[idx]-x) < abs(a[idx-1]-x))\n",
    "      return idx\n",
    "   else\n",
    "      return idx-1\n",
    "   end\n",
    "end"
   ]
  },
  {
   "cell_type": "markdown",
   "metadata": {},
   "source": [
    "### Import of parameters to be used, also the convertion factors \n",
    "### Wavelength and distance also here"
   ]
  },
  {
   "cell_type": "code",
   "execution_count": 3,
   "metadata": {},
   "outputs": [],
   "source": [
    "ang = readdlm(\"../pmt_ang_interp.txt\",skipstart=1); # angular acceptance data\n",
    "qe = readdlm(\"../pmt_qe_interp.txt\",skipstart=1); # quantum efficiency data\n",
    "qe[:,2]=qe[:,2]*0.01\n",
    "wabs = readdlm(\"../water_abs_interp.txt\",skipstart=1); # absorption length data\n",
    "wscatt = readdlm(\"../water_scatt_rayleight.txt\",skipstart=1); # scattering length data\n",
    "b=0.835 # parameter b of the scattering\n",
    "lam = 446; #Wavelength (nm)\n",
    "xa = wabs[searchsortednearest(wabs[1:end,1],lam),2]; # absorption length\n",
    "xs = wscatt[searchsortednearest(wscatt[1:end,1],lam),2]; # scattering length\n",
    "Pq = qe[searchsortednearest(qe[1:end,1],lam),2]; # quantum efficiency\n",
    "f=(1. /(4. *pi))*(3. /(3. +b))\n",
    "human = 1; # Human eye conversion factor\n",
    "lum = 1; # Brightness (lm)\n",
    "dist = 400; # Distance"
   ]
  },
  {
   "cell_type": "code",
   "execution_count": 10,
   "metadata": {},
   "outputs": [
    {
     "data": {
      "text/plain": [
       "51×2 Array{Float64,2}:\n",
       " -0.25075  0.0     \n",
       " -0.25     0.0     \n",
       " -0.24875  0.0001  \n",
       " -0.2475   0.0002  \n",
       " -0.24625  0.0003  \n",
       " -0.245    0.0004  \n",
       " -0.24375  0.0005  \n",
       " -0.2425   0.0006  \n",
       " -0.24125  0.0007  \n",
       " -0.24     0.0008  \n",
       " -0.23875  0.0009  \n",
       " -0.2375   0.001   \n",
       " -0.23625  0.0011  \n",
       "  ⋮                \n",
       " -0.2025   0.0038  \n",
       " -0.20125  0.0039  \n",
       " -0.2      0.004   \n",
       " -0.19875  0.004375\n",
       " -0.1975   0.00475 \n",
       " -0.19625  0.005125\n",
       " -0.195    0.0055  \n",
       " -0.19375  0.005875\n",
       " -0.1925   0.00625 \n",
       " -0.19125  0.006625\n",
       " -0.19     0.007   \n",
       " -0.18875  0.007375"
      ]
     },
     "execution_count": 10,
     "metadata": {},
     "output_type": "execute_result"
    }
   ],
   "source": [
    "ang[1000:1050,:]"
   ]
  },
  {
   "cell_type": "markdown",
   "metadata": {},
   "source": [
    "### Integration for the setup of the semisphere for determined wavelength and distance to pmt"
   ]
  },
  {
   "cell_type": "code",
   "execution_count": 4,
   "metadata": {
    "scrolled": true
   },
   "outputs": [
    {
     "name": "stdout",
     "output_type": "stream",
     "text": [
      "Rate 1031.1855162957352Hz\n"
     ]
    }
   ],
   "source": [
    "#one Lumen at 555 nm = 4,11·10^15 Photons per second  \n",
    "Aeff3inch = 0.004536; # Effective area 3inch PMT [m^2]\n",
    "ratdef = 4.11e15; #photon rate 1 lumen\n",
    "#ratdef = 9e18; # photon rate for the ROV\n",
    "\n",
    "ctmin = -1.;\n",
    "ctmax = 0#cos(pi/6.)#0;\n",
    "Nbct = 1000;\n",
    "delct=(ctmax-ctmin)/Nbct;\n",
    "\n",
    "ndist = 500; # steps over 500m\n",
    "nmet  = 1; # step width (m)\n",
    "rate = 0;\n",
    "part = 0;\n",
    "\n",
    "\n",
    "#loop over distance bins\n",
    "ndist = 500 # steps over 500m\n",
    "nmet = 1 #step width\n",
    "\n",
    "for j = 0:ndist-1\n",
    "    xm = (j+0.05)*nmet; # mean distance of bin\n",
    "    Psca = nmet/xs*exp(-xm/xs); # probability of scattering inside the bin\n",
    "    for l=0:Nbct-1\n",
    "        ct = ctmin + (l+0.5)*delct;\n",
    "        y=sqrt(dist*dist+xm*xm-2. *dist*xm*ct); # distance from scattering to PMT\n",
    "        Pabs = exp(-(y+xm)/xa); # probability of non-absorption on full photon path\n",
    "        cosa = (-dist*dist + xm*xm + y*y)/(2. *xm*y); # scattering angle\n",
    "        cosb = (-xm*xm + y*y + dist*dist)/(2. *y*dist); # PMT-photon angle\n",
    "        # included sanity check in angles\n",
    "        if (abs((acos(ct)+acos(cosa)+acos(cosb))/pi-1)>1e-6) \n",
    "            println(ct, \" \", cosa, \" \", cosb)\n",
    "        end\n",
    "        PSAng = f*(1. +b*(cosa)^2.) # probability for angular scattering\n",
    "        PxAng = ang[searchsortednearest(ang[1:end,1],cosb),2] # probability for photon on PMT\n",
    "        rate += ratdef * human * lum * Aeff3inch/y/y * Pabs * Psca * PSAng * PxAng * Pq / Nbct;\n",
    "        part += 0;\n",
    "    end\n",
    "            #println(\"area= \",Aeff3inch/y/y ,\"Pabs= \", Pabs ,\"Psca= \", Psca ,\"PSAng= \", PSAng ,\"PxAng= \", PxAng , \"Pq/Nbct= \",Pq / Nbct)\n",
    "\n",
    "end\n",
    "println(\"Rate \", rate, \"Hz\")        "
   ]
  },
  {
   "cell_type": "code",
   "execution_count": 5,
   "metadata": {},
   "outputs": [
    {
     "name": "stdout",
     "output_type": "stream",
     "text": [
      "Rate 213605.97107927914Hz\n"
     ]
    }
   ],
   "source": [
    "#one Lumen at 555 nm = 4,11·10^15 Photons per second  \n",
    "Aeff3inch = 0.004536; # Effective area 3inch PMT [m^2]\n",
    "ratdef = 4.11e15; #photon rate 1 lumen\n",
    "ratdef = 9e18; # photon rate for the ROV\n",
    "ratdef = 8*10^17; # photon rate for the ROV\n",
    "\n",
    "ctmin = -1.;\n",
    "ctmax = -cos(pi/6.)#0;\n",
    "Nbct = 1000;\n",
    "delct=(ctmax-ctmin)/Nbct;\n",
    "\n",
    "ndist = 500; # steps over 500m\n",
    "nmet  = 1; # step width (m)\n",
    "rate = 0;\n",
    "part = 0;\n",
    "\n",
    "\n",
    "#loop over distance bins\n",
    "ndist = 500 # steps over 500m\n",
    "nmet = 1 #step width\n",
    "\n",
    "for j = 0:ndist-1\n",
    "    xm = (j+0.05)*nmet; # mean distance of bin\n",
    "    Psca = nmet/xs*exp(-xm/xs); # probability of scattering inside the bin\n",
    "    for l=0:Nbct-1\n",
    "        ct = ctmin + (l+0.5)*delct;\n",
    "        y=sqrt(dist*dist+xm*xm-2. *dist*xm*ct); # distance from scattering to PMT\n",
    "        Pabs = exp(-(y+xm)/xa); # probability of non-absorption on full photon path\n",
    "        cosa = (-dist*dist + xm*xm + y*y)/(2. *xm*y); # scattering angle\n",
    "        cosb = (-xm*xm + y*y + dist*dist)/(2. *y*dist); # PMT-photon angle\n",
    "        pmtcos = cos((0.)*pi/6.) # PMT rotation angle\n",
    "        domcos = cosb*pmtcos+sqrt(1-cosb^2.)*sqrt(1-pmtcos^2.) # angle sum of rotation and arrival\n",
    "        # included sanity check in angles\n",
    "        if (abs((acos(ct)+acos(cosa)+acos(cosb))/pi-1)>1e-6) \n",
    "            println(ct, \" \", cosa, \" \", cosb)\n",
    "        end\n",
    "        PSAng = f*(1. +b*(cosa)^2.) # probability for angular scattering\n",
    "        PxAng = ang[searchsortednearest(ang[1:end,1],domcos),2] # probability for photon on PMT\n",
    "        rate += ratdef * human * lum * Aeff3inch/y/y * Pabs * Psca * PSAng * PxAng * Pq / Nbct;\n",
    "        part += 0;\n",
    "    end\n",
    "            #println(\"area= \",Aeff3inch/y/y ,\"Pabs= \", Pabs ,\"Psca= \", Psca ,\"PSAng= \", PSAng ,\"PxAng= \", PxAng , \"Pq/Nbct= \",Pq / Nbct)\n",
    "\n",
    "end\n",
    "println(\"Rate \", rate, \"Hz\")        "
   ]
  },
  {
   "cell_type": "markdown",
   "metadata": {},
   "source": [
    "### Code that attempts to do the DOM numbers of the slides presentation\n",
    "### Change \"sector\" to change the PMT orientation"
   ]
  },
  {
   "cell_type": "code",
   "execution_count": 18,
   "metadata": {},
   "outputs": [
    {
     "name": "stdout",
     "output_type": "stream",
     "text": [
      "5.390141628110298e-10\t-0.5056573733779844\n",
      "6.28116473214832e-11\t-0.5112930860770519\n",
      "0.0\t-0.5169068966820275\n",
      "0.0\t-0.5224985647159488\n",
      "0.0\t-0.528067850650368\n",
      "0.0\t-0.5336145159156115\n",
      "0.0\t-0.5391383229110003\n",
      "0.0\t-0.5446390350150268\n",
      "0.0\t-0.5501164165954934\n",
      "0.0\t-0.5555702330196023\n",
      "0.0\t-0.56100025066401\n",
      "0.0\t-0.566406236924833\n",
      "0.0\t-0.5717879602276121\n",
      "0.0\t-0.5771451900372335\n",
      "0.0\t-0.582477696867802\n",
      "0.0\t-0.587785252292473\n",
      "0.0\t-0.5930676289532374\n",
      "0.0\t-0.5983246005706586\n",
      "0.0\t-0.6035559419535711\n",
      "0.0\t-0.6087614290087207\n",
      "0.0\t-0.6139408387503665\n",
      "0.0\t-0.6190939493098341\n",
      "0.0\t-0.6242205399450175\n",
      "0.0\t-0.6293203910498373\n",
      "0.0\t-0.6343932841636454\n",
      "0.0\t-0.6394390019805847\n",
      "0.0\t-0.6444573283588974\n",
      "0.0\t-0.6494480483301835\n",
      "0.0\t-0.6544109481086103\n",
      "0.0\t-0.6593458151000688\n",
      "0.0\t-0.6642524379112817\n",
      "0.0\t-0.6691306063588582\n",
      "0.0\t-0.6739801114782976\n",
      "0.0\t-0.6788007455329415\n",
      "0.0\t-0.6835923020228714\n",
      "0.0\t-0.6883545756937541\n",
      "0.0\t-0.693087362545636\n",
      "0.0\t-0.69779045984168\n",
      "0.0\t-0.7024636661168516\n",
      "0.0\t-0.7071067811865475\n",
      "0.0\t-0.7117196061551713\n",
      "0.0\t-0.7163019434246543\n",
      "0.0\t-0.7208535967029185\n",
      "0.0\t-0.7253743710122874\n",
      "0.0\t-0.7298640726978354\n",
      "0.0\t-0.7343225094356856\n",
      "0.0\t-0.7387494902412464\n",
      "0.0\t-0.7431448254773941\n",
      "0.0\t-0.7475083268625966\n",
      "0.0\t-0.7518398074789773\n",
      "0.0\t-0.7561390817803227\n",
      "0.0\t-0.7604059656000309\n",
      "0.0\t-0.7646402761590003\n",
      "0.0\t-0.7688418320734595\n",
      "0.0\t-0.773010453362737\n",
      "0.0\t-0.7771459614569709\n",
      "0.0\t-0.7812481792047586\n",
      "0.0\t-0.7853169308807447\n",
      "0.0\t-0.7893520421931499\n",
      "0.0\t-0.793353340291235\n",
      "0.0\t-0.7973206537727072\n",
      "0.0\t-0.8012538126910608\n",
      "0.0\t-0.8051526485628578\n",
      "0.0\t-0.8090169943749473\n",
      "0.0\t-0.8128466845916151\n",
      "0.0\t-0.8166415551616789\n",
      "0.0\t-0.8204014435255136\n",
      "0.0\t-0.8241261886220155\n",
      "0.0\t-0.8278156308955019\n",
      "0.0\t-0.831469612302545\n",
      "0.0\t-0.835087976318743\n",
      "0.0\t-0.8386705679454242\n",
      "0.0\t-0.8422172337162864\n",
      "0.0\t-0.8457278217039732\n",
      "0.0\t-0.8492021815265788\n",
      "0.0\t-0.8526401643540922\n",
      "0.0\t-0.8560416229147714\n",
      "0.0\t-0.8594064115014527\n",
      "0.0\t-0.8627343859777918\n",
      "0.0\t-0.8660254037844387\n",
      "For the sector= 4.0, Rate 7.522822626656413e-12Hz\n"
     ]
    },
    {
     "ename": "BoundsError",
     "evalue": "BoundsError: attempt to access 1-element Array{Float64,1} at index [2]",
     "output_type": "error",
     "traceback": [
      "BoundsError: attempt to access 1-element Array{Float64,1} at index [2]",
      "",
      "Stacktrace:",
      " [1] getindex(::Array{Float64,1}, ::Int64) at ./array.jl:731",
      " [2] top-level scope at ./In[18]:26"
     ]
    }
   ],
   "source": [
    "#one Lumen at 555 nm = 4,11·10^15 Photons per second  \n",
    "Aeff3inch = 0.004536; # Effective area 3inch PMT [m^2]\n",
    "ratdef = 4.11e15; #photon rate 1 lumen\n",
    "#ratdef = 8e17; # photon rate for the ROV\n",
    "#ratdef = 9*10^18; # photon rate for the ROV\n",
    "\n",
    "ctmin = -1.;\n",
    "ctmax = -cos(pi/6);#0;\n",
    "Nbct = 100;\n",
    "delct=(ctmax-ctmin)/Nbct;\n",
    "\n",
    "ndist = 1000; # steps over 500m\n",
    "nmet  = 5; # step width (m)\n",
    "rate = 0;\n",
    "part = 0;\n",
    "\n",
    "ratesum = 0; # sum of individual rates\n",
    "#loop over distance bins\n",
    "ndist = 500 # steps over 500m\n",
    "nmet = 1 #step width\n",
    "pmtsteps=80#100 #number of steps to average the value\n",
    "sector=[4.]#[0.,1.,2.,3.,4.,5.] # what part of the hemisphere you are looking\n",
    "pmtcosb=zeros(pmtsteps)\n",
    "for kk = 1:6\n",
    "for ii =1:pmtsteps\n",
    "    pmtcosb[ii] = cos((ii/pmtsteps+sector[kk])*pi/6.) # PMT rotation angle\n",
    "end\n",
    "for jj =1:pmtsteps\n",
    "    rate = 0;\n",
    "    for j = 0:ndist-1\n",
    "        xm = (j+0.05)*nmet; # mean distance of bin\n",
    "        Psca = nmet/xs*exp(-xm/xs); # probability of scattering inside the bin\n",
    "        for l=0:Nbct-1\n",
    "            ct = ctmin + (l+0.5)*delct;\n",
    "            y=sqrt(dist*dist+xm*xm-2. *dist*xm*ct); # distance from scattering to PMT\n",
    "            Pabs = exp(-(y+xm)/xa); # probability of non-absorption on full photon path\n",
    "            cosa = (-dist*dist + xm*xm + y*y)/(2. *xm*y); # scattering angle\n",
    "            cosb = (-xm*xm + y*y + dist*dist)/(2. *y*dist); # PMT-photon angle\n",
    "            pmtcos = pmtcosb[jj] # PMT rotation angle\n",
    "            domcos = cosb*pmtcos+sqrt(1-cosb^2.)*sqrt(1-pmtcos^2.) # angle sum of rotation and arrival\n",
    "            # included sanity check in angles\n",
    "            if (abs((acos(ct)+acos(cosa)+acos(cosb))/pi-1)>1e-6) \n",
    "                println(ct, \" \", cosa, \" \", cosb)\n",
    "            end\n",
    "            PSAng = f*(1. +b*(cosa)^2.) # probability for angular scattering\n",
    "            PxAng = ang[searchsortednearest(ang[1:end,1],domcos),2] # probability for photon on PMT\n",
    "            rate += ratdef * human * lum * Aeff3inch/y/y * Pabs * Psca * PSAng * PxAng * Pq / Nbct;\n",
    "            part += 0;\n",
    "        end\n",
    "    end\n",
    "    println(rate,\"\\t\",pmtcosb[jj])\n",
    "    ratesum += rate\n",
    "end\n",
    "\n",
    "println(\"For the sector= \", sector[kk], \", Rate \", ratesum/pmtsteps, \"Hz\")  \n",
    "ratesum = 0\n",
    "end\n"
   ]
  },
  {
   "cell_type": "code",
   "execution_count": 16,
   "metadata": {},
   "outputs": [
    {
     "data": {
      "text/plain": [
       "100-element Array{Float64,1}:\n",
       " 0.5016666666666666\n",
       " 0.5033333333333333\n",
       " 0.505             \n",
       " 0.5066666666666666\n",
       " 0.5083333333333333\n",
       " 0.51              \n",
       " 0.5116666666666666\n",
       " 0.5133333333333333\n",
       " 0.515             \n",
       " 0.5166666666666667\n",
       " 0.5183333333333333\n",
       " 0.5199999999999999\n",
       " 0.5216666666666666\n",
       " ⋮                 \n",
       " 0.6483333333333333\n",
       " 0.65              \n",
       " 0.6516666666666667\n",
       " 0.6533333333333333\n",
       " 0.6550000000000001\n",
       " 0.6566666666666666\n",
       " 0.6583333333333333\n",
       " 0.66              \n",
       " 0.6616666666666666\n",
       " 0.6633333333333333\n",
       " 0.665             \n",
       " 0.6666666666666666"
      ]
     },
     "execution_count": 16,
     "metadata": {},
     "output_type": "execute_result"
    }
   ],
   "source": [
    "pmtsteps=100 #number of steps to average the value\n",
    "sector=3. # what part of the hemisphere you are looking\n",
    "pmtcosb=zeros(pmtsteps)\n",
    "for ii =1:pmtsteps\n",
    "    pmtcosb[ii] = acos(cos((ii/pmtsteps+sector)*pi/6.)) # PMT rotation angle\n",
    "end\n",
    "pmtcosb/pi"
   ]
  },
  {
   "cell_type": "code",
   "execution_count": 162,
   "metadata": {},
   "outputs": [
    {
     "data": {
      "text/plain": [
       "9.0e18"
      ]
     },
     "execution_count": 162,
     "metadata": {},
     "output_type": "execute_result"
    }
   ],
   "source": [
    "1+9e18"
   ]
  },
  {
   "cell_type": "code",
   "execution_count": 163,
   "metadata": {},
   "outputs": [
    {
     "data": {
      "text/plain": [
       "9000000000000000001"
      ]
     },
     "execution_count": 163,
     "metadata": {},
     "output_type": "execute_result"
    }
   ],
   "source": [
    "1+9*(10^(18))"
   ]
  },
  {
   "cell_type": "code",
   "execution_count": 173,
   "metadata": {},
   "outputs": [
    {
     "data": {
      "text/plain": [
       "-0.8660254037844387"
      ]
     },
     "execution_count": 173,
     "metadata": {},
     "output_type": "execute_result"
    }
   ],
   "source": [
    "-cos(pi/6)"
   ]
  },
  {
   "cell_type": "code",
   "execution_count": null,
   "metadata": {},
   "outputs": [],
   "source": []
  }
 ],
 "metadata": {
  "kernelspec": {
   "display_name": "Julia 1.0.3",
   "language": "julia",
   "name": "julia-1.0"
  },
  "language_info": {
   "file_extension": ".jl",
   "mimetype": "application/julia",
   "name": "julia",
   "version": "1.0.3"
  }
 },
 "nbformat": 4,
 "nbformat_minor": 4
}
