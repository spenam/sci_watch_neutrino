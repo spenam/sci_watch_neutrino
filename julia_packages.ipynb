{
 "cells": [
  {
   "cell_type": "code",
   "execution_count": 1,
   "metadata": {},
   "outputs": [],
   "source": [
    "using Pkg"
   ]
  },
  {
   "cell_type": "code",
   "execution_count": 3,
   "metadata": {},
   "outputs": [
    {
     "name": "stdout",
     "output_type": "stream",
     "text": [
      "\u001b[32m\u001b[1m  Updating\u001b[22m\u001b[39m registry at `~/.julia/registries/General`\n",
      "\u001b[32m\u001b[1m  Updating\u001b[22m\u001b[39m git-repo `https://github.com/JuliaRegistries/General.git`\n",
      "\u001b[?25l\u001b[2K\u001b[?25h"
     ]
    },
    {
     "name": "stderr",
     "output_type": "stream",
     "text": [
      "┌ Warning: Some registries failed to update:\n",
      "│     — /astro/users/pena/.julia/registries/General — failed to fetch from repo\n",
      "└ @ Pkg.API /home/conda/feedstock_root/build_artifacts/julia_1548684429855/work/usr/share/julia/stdlib/v1.0/Pkg/src/API.jl:157\n"
     ]
    },
    {
     "name": "stdout",
     "output_type": "stream",
     "text": [
      "\u001b[32m\u001b[1m Resolving\u001b[22m\u001b[39m package versions...\n",
      "\u001b[32m\u001b[1m Installed\u001b[22m\u001b[39m RecursiveFactorization ────── v0.1.0\n",
      "\u001b[32m\u001b[1m Installed\u001b[22m\u001b[39m ProgressMeter ─────────────── v1.4.0\n",
      "\u001b[32m\u001b[1m Installed\u001b[22m\u001b[39m Roots ─────────────────────── v1.0.5\n",
      "\u001b[32m\u001b[1m Installed\u001b[22m\u001b[39m Parameters ────────────────── v0.12.1\n",
      "\u001b[32m\u001b[1m Installed\u001b[22m\u001b[39m DataStructures ────────────── v0.17.20\n",
      "\u001b[32m\u001b[1m Installed\u001b[22m\u001b[39m DocStringExtensions ───────── v0.8.3\n",
      "\u001b[32m\u001b[1m Installed\u001b[22m\u001b[39m DiffEqBase ────────────────── v6.20.0\n",
      "\u001b[32m\u001b[1m Installed\u001b[22m\u001b[39m OrdinaryDiffEq ────────────── v5.29.0\n",
      "\u001b[32m\u001b[1m Installed\u001b[22m\u001b[39m DiffRules ─────────────────── v1.0.1\n",
      "\u001b[32m\u001b[1m Installed\u001b[22m\u001b[39m LeftChildRightSiblingTrees ── v0.1.2\n",
      "\u001b[32m\u001b[1m Installed\u001b[22m\u001b[39m FiniteDiff ────────────────── v2.1.0\n",
      "\u001b[32m\u001b[1m Installed\u001b[22m\u001b[39m SimpleTraits ──────────────── v0.9.3\n",
      "\u001b[32m\u001b[1m Installed\u001b[22m\u001b[39m URIParser ─────────────────── v0.4.1\n",
      "\u001b[32m\u001b[1m Installed\u001b[22m\u001b[39m Inflate ───────────────────── v0.1.2\n",
      "\u001b[32m\u001b[1m Installed\u001b[22m\u001b[39m ExponentialUtilities ──────── v1.8.0\n",
      "\u001b[32m\u001b[1m Installed\u001b[22m\u001b[39m ForwardDiff ───────────────── v0.10.12\n",
      "\u001b[32m\u001b[1m Installed\u001b[22m\u001b[39m SparseDiffTools ───────────── v1.1.1\n",
      "\u001b[32m\u001b[1m Installed\u001b[22m\u001b[39m GenericSVD ────────────────── v0.2.2\n",
      "\u001b[32m\u001b[1m Installed\u001b[22m\u001b[39m MacroTools ────────────────── v0.5.6\n",
      "\u001b[32m\u001b[1m Installed\u001b[22m\u001b[39m UnPack ────────────────────── v1.0.2\n",
      "\u001b[32m\u001b[1m Installed\u001b[22m\u001b[39m MuladdMacro ───────────────── v0.2.2\n",
      "\u001b[32m\u001b[1m Installed\u001b[22m\u001b[39m LoggingExtras ─────────────── v0.4.2\n",
      "\u001b[32m\u001b[1m Installed\u001b[22m\u001b[39m ArrayInterface ────────────── v2.2.0\n",
      "\u001b[32m\u001b[1m Installed\u001b[22m\u001b[39m CommonSubexpressions ──────── v0.3.0\n",
      "\u001b[32m\u001b[1m Installed\u001b[22m\u001b[39m TerminalLoggers ───────────── v0.1.2\n",
      "\u001b[32m\u001b[1m Installed\u001b[22m\u001b[39m Requires ──────────────────── v1.1.0\n",
      "\u001b[32m\u001b[1m Installed\u001b[22m\u001b[39m RecipesBase ───────────────── v0.8.0\n",
      "\u001b[32m\u001b[1m Installed\u001b[22m\u001b[39m ConsoleProgressMonitor ────── v0.1.2\n",
      "\u001b[32m\u001b[1m Installed\u001b[22m\u001b[39m RecursiveArrayTools ───────── v2.2.0\n",
      "\u001b[32m\u001b[1m Installed\u001b[22m\u001b[39m DiffResults ───────────────── v1.0.2\n",
      "\u001b[32m\u001b[1m Installed\u001b[22m\u001b[39m BinDeps ───────────────────── v1.0.1\n",
      "\u001b[32m\u001b[1m Installed\u001b[22m\u001b[39m AbstractTrees ─────────────── v0.3.3\n",
      "\u001b[32m\u001b[1m Installed\u001b[22m\u001b[39m LightGraphs ───────────────── v1.3.3\n",
      "\u001b[32m\u001b[1m Installed\u001b[22m\u001b[39m TreeViews ─────────────────── v0.3.0\n",
      "\u001b[32m\u001b[1m Installed\u001b[22m\u001b[39m Compat ────────────────────── v3.23.0\n",
      "\u001b[32m\u001b[1m Installed\u001b[22m\u001b[39m Reexport ──────────────────── v0.2.0\n",
      "\u001b[32m\u001b[1m Installed\u001b[22m\u001b[39m FunctionWrappers ──────────── v1.1.1\n",
      "\u001b[32m\u001b[1m Installed\u001b[22m\u001b[39m ProgressLogging ───────────── v0.1.3\n",
      "\u001b[32m\u001b[1m Installed\u001b[22m\u001b[39m SpecialFunctions ──────────── v0.8.0\n",
      "\u001b[32m\u001b[1m Installed\u001b[22m\u001b[39m StaticArrays ──────────────── v0.12.5\n",
      "\u001b[32m\u001b[1m Installed\u001b[22m\u001b[39m ZygoteRules ───────────────── v0.2.0\n",
      "\u001b[32m\u001b[1m Installed\u001b[22m\u001b[39m TableTraits ───────────────── v1.0.0\n",
      "\u001b[32m\u001b[1m Installed\u001b[22m\u001b[39m Adapt ─────────────────────── v1.1.0\n",
      "\u001b[32m\u001b[1m Installed\u001b[22m\u001b[39m VertexSafeGraphs ──────────── v0.1.2\n",
      "\u001b[32m\u001b[1m Installed\u001b[22m\u001b[39m DiffEqDiffTools ───────────── v1.6.0\n",
      "\u001b[32m\u001b[1m Installed\u001b[22m\u001b[39m IteratorInterfaceExtensions ─ v1.0.0\n",
      "\u001b[32m\u001b[1m Installed\u001b[22m\u001b[39m IterativeSolvers ──────────── v0.8.4\n",
      "\u001b[32m\u001b[1m Installed\u001b[22m\u001b[39m OrderedCollections ────────── v1.3.2\n",
      "\u001b[32m\u001b[1m Installed\u001b[22m\u001b[39m NaNMath ───────────────────── v0.3.4\n",
      "\u001b[32m\u001b[1m Installed\u001b[22m\u001b[39m ArnoldiMethod ─────────────── v0.0.4\n",
      "\u001b[32m\u001b[1m Installed\u001b[22m\u001b[39m ChainRulesCore ────────────── v0.7.5\n",
      "\u001b[32m\u001b[1m  Updating\u001b[22m\u001b[39m `~/.julia/environments/v1.0/Project.toml`\n",
      " \u001b[90m [1dea7af3]\u001b[39m\u001b[92m + OrdinaryDiffEq v5.29.0\u001b[39m\n",
      "\u001b[32m\u001b[1m  Updating\u001b[22m\u001b[39m `~/.julia/environments/v1.0/Manifest.toml`\n",
      " \u001b[90m [1520ce14]\u001b[39m\u001b[92m + AbstractTrees v0.3.3\u001b[39m\n",
      " \u001b[90m [79e6a3ab]\u001b[39m\u001b[92m + Adapt v1.1.0\u001b[39m\n",
      " \u001b[90m [ec485272]\u001b[39m\u001b[92m + ArnoldiMethod v0.0.4\u001b[39m\n",
      " \u001b[90m [4fba245c]\u001b[39m\u001b[92m + ArrayInterface v2.2.0\u001b[39m\n",
      " \u001b[90m [9e28174c]\u001b[39m\u001b[92m + BinDeps v1.0.1\u001b[39m\n",
      " \u001b[90m [d360d2e6]\u001b[39m\u001b[92m + ChainRulesCore v0.7.5\u001b[39m\n",
      " \u001b[90m [bbf7d656]\u001b[39m\u001b[92m + CommonSubexpressions v0.3.0\u001b[39m\n",
      " \u001b[90m [34da2185]\u001b[39m\u001b[92m + Compat v3.23.0\u001b[39m\n",
      " \u001b[90m [88cd18e8]\u001b[39m\u001b[92m + ConsoleProgressMonitor v0.1.2\u001b[39m\n",
      " \u001b[90m [864edb3b]\u001b[39m\u001b[92m + DataStructures v0.17.20\u001b[39m\n",
      " \u001b[90m [2b5f629d]\u001b[39m\u001b[92m + DiffEqBase v6.20.0\u001b[39m\n",
      " \u001b[90m [01453d9d]\u001b[39m\u001b[92m + DiffEqDiffTools v1.6.0\u001b[39m\n",
      " \u001b[90m [163ba53b]\u001b[39m\u001b[92m + DiffResults v1.0.2\u001b[39m\n",
      " \u001b[90m [b552c78f]\u001b[39m\u001b[92m + DiffRules v1.0.1\u001b[39m\n",
      " \u001b[90m [ffbed154]\u001b[39m\u001b[92m + DocStringExtensions v0.8.3\u001b[39m\n",
      " \u001b[90m [d4d017d3]\u001b[39m\u001b[92m + ExponentialUtilities v1.8.0\u001b[39m\n",
      " \u001b[90m [6a86dc24]\u001b[39m\u001b[92m + FiniteDiff v2.1.0\u001b[39m\n",
      " \u001b[90m [f6369f11]\u001b[39m\u001b[92m + ForwardDiff v0.10.12\u001b[39m\n",
      " \u001b[90m [069b7b12]\u001b[39m\u001b[92m + FunctionWrappers v1.1.1\u001b[39m\n",
      " \u001b[90m [01680d73]\u001b[39m\u001b[92m + GenericSVD v0.2.2\u001b[39m\n",
      " \u001b[90m [d25df0c9]\u001b[39m\u001b[92m + Inflate v0.1.2\u001b[39m\n",
      " \u001b[90m [42fd0dbc]\u001b[39m\u001b[92m + IterativeSolvers v0.8.4\u001b[39m\n",
      " \u001b[90m [82899510]\u001b[39m\u001b[92m + IteratorInterfaceExtensions v1.0.0\u001b[39m\n",
      " \u001b[90m [1d6d02ad]\u001b[39m\u001b[92m + LeftChildRightSiblingTrees v0.1.2\u001b[39m\n",
      " \u001b[90m [093fc24a]\u001b[39m\u001b[92m + LightGraphs v1.3.3\u001b[39m\n",
      " \u001b[90m [e6f89c97]\u001b[39m\u001b[92m + LoggingExtras v0.4.2\u001b[39m\n",
      " \u001b[90m [1914dd2f]\u001b[39m\u001b[92m + MacroTools v0.5.6\u001b[39m\n",
      " \u001b[90m [46d2c3a1]\u001b[39m\u001b[92m + MuladdMacro v0.2.2\u001b[39m\n",
      " \u001b[90m [77ba4419]\u001b[39m\u001b[92m + NaNMath v0.3.4\u001b[39m\n",
      " \u001b[90m [bac558e1]\u001b[39m\u001b[92m + OrderedCollections v1.3.2\u001b[39m\n",
      " \u001b[90m [1dea7af3]\u001b[39m\u001b[92m + OrdinaryDiffEq v5.29.0\u001b[39m\n",
      " \u001b[90m [d96e819e]\u001b[39m\u001b[92m + Parameters v0.12.1\u001b[39m\n",
      " \u001b[90m [33c8b6b6]\u001b[39m\u001b[92m + ProgressLogging v0.1.3\u001b[39m\n",
      " \u001b[90m [92933f4c]\u001b[39m\u001b[92m + ProgressMeter v1.4.0\u001b[39m\n",
      " \u001b[90m [3cdcf5f2]\u001b[39m\u001b[92m + RecipesBase v0.8.0\u001b[39m\n",
      " \u001b[90m [731186ca]\u001b[39m\u001b[92m + RecursiveArrayTools v2.2.0\u001b[39m\n",
      " \u001b[90m [f2c3362d]\u001b[39m\u001b[92m + RecursiveFactorization v0.1.0\u001b[39m\n",
      " \u001b[90m [189a3867]\u001b[39m\u001b[92m + Reexport v0.2.0\u001b[39m\n",
      " \u001b[90m [ae029012]\u001b[39m\u001b[92m + Requires v1.1.0\u001b[39m\n",
      " \u001b[90m [f2b01f46]\u001b[39m\u001b[92m + Roots v1.0.5\u001b[39m\n",
      " \u001b[90m [699a6c99]\u001b[39m\u001b[92m + SimpleTraits v0.9.3\u001b[39m\n",
      " \u001b[90m [47a9eef4]\u001b[39m\u001b[92m + SparseDiffTools v1.1.1\u001b[39m\n",
      " \u001b[90m [276daf66]\u001b[39m\u001b[92m + SpecialFunctions v0.8.0\u001b[39m\n",
      " \u001b[90m [90137ffa]\u001b[39m\u001b[92m + StaticArrays v0.12.5\u001b[39m\n",
      " \u001b[90m [3783bdb8]\u001b[39m\u001b[92m + TableTraits v1.0.0\u001b[39m\n",
      " \u001b[90m [5d786b92]\u001b[39m\u001b[92m + TerminalLoggers v0.1.2\u001b[39m\n",
      " \u001b[90m [a2a6695c]\u001b[39m\u001b[92m + TreeViews v0.3.0\u001b[39m\n",
      " \u001b[90m [30578b45]\u001b[39m\u001b[92m + URIParser v0.4.1\u001b[39m\n",
      " \u001b[90m [3a884ed6]\u001b[39m\u001b[92m + UnPack v1.0.2\u001b[39m\n",
      " \u001b[90m [19fa3120]\u001b[39m\u001b[92m + VertexSafeGraphs v0.1.2\u001b[39m\n",
      " \u001b[90m [700de1a5]\u001b[39m\u001b[92m + ZygoteRules v0.2.0\u001b[39m\n",
      " \u001b[90m [8bb1440f]\u001b[39m\u001b[92m + DelimitedFiles \u001b[39m\n",
      " \u001b[90m [1a1011a3]\u001b[39m\u001b[92m + SharedArrays \u001b[39m\n",
      " \u001b[90m [2f01184e]\u001b[39m\u001b[92m + SparseArrays \u001b[39m\n",
      " \u001b[90m [10745b16]\u001b[39m\u001b[92m + Statistics \u001b[39m\n",
      " \u001b[90m [4607b0f0]\u001b[39m\u001b[92m + SuiteSparse \u001b[39m\n",
      "\u001b[32m\u001b[1m  Building\u001b[22m\u001b[39m SpecialFunctions → `~/.julia/packages/SpecialFunctions/ne2iw/deps/build.log`\n"
     ]
    }
   ],
   "source": [
    "Pkg.add(\"OrdinaryDiffEq\")"
   ]
  },
  {
   "cell_type": "code",
   "execution_count": 4,
   "metadata": {},
   "outputs": [
    {
     "name": "stdout",
     "output_type": "stream",
     "text": [
      "\u001b[32m\u001b[1m Resolving\u001b[22m\u001b[39m package versions...\n",
      "\u001b[32m\u001b[1m  Updating\u001b[22m\u001b[39m `~/.julia/environments/v1.0/Project.toml`\n",
      " \u001b[90m [f6369f11]\u001b[39m\u001b[92m + ForwardDiff v0.10.12\u001b[39m\n",
      "\u001b[32m\u001b[1m  Updating\u001b[22m\u001b[39m `~/.julia/environments/v1.0/Manifest.toml`\n",
      "\u001b[90m [no changes]\u001b[39m\n"
     ]
    }
   ],
   "source": [
    "Pkg.add(\"ForwardDiff\")"
   ]
  },
  {
   "cell_type": "code",
   "execution_count": 5,
   "metadata": {},
   "outputs": [
    {
     "ename": "LoadError",
     "evalue": "syntax: incomplete: invalid string syntax",
     "output_type": "error",
     "traceback": [
      "syntax: incomplete: invalid string syntax",
      ""
     ]
    }
   ],
   "source": [
    "Pkg.add(\"Distributions)"
   ]
  },
  {
   "cell_type": "code",
   "execution_count": 6,
   "metadata": {},
   "outputs": [
    {
     "name": "stdout",
     "output_type": "stream",
     "text": [
      "\u001b[32m\u001b[1m Resolving\u001b[22m\u001b[39m package versions...\n",
      "\u001b[32m\u001b[1m Installed\u001b[22m\u001b[39m RandomNumbers ─ v1.4.0\n",
      "\u001b[32m\u001b[1m  Updating\u001b[22m\u001b[39m `~/.julia/environments/v1.0/Project.toml`\n",
      " \u001b[90m [e6cf234a]\u001b[39m\u001b[92m + RandomNumbers v1.4.0\u001b[39m\n",
      "\u001b[32m\u001b[1m  Updating\u001b[22m\u001b[39m `~/.julia/environments/v1.0/Manifest.toml`\n",
      " \u001b[90m [e6cf234a]\u001b[39m\u001b[92m + RandomNumbers v1.4.0\u001b[39m\n"
     ]
    }
   ],
   "source": [
    "Pkg.add(\"RandomNumbers\")"
   ]
  },
  {
   "cell_type": "code",
   "execution_count": 7,
   "metadata": {},
   "outputs": [
    {
     "name": "stdout",
     "output_type": "stream",
     "text": [
      "\u001b[32m\u001b[1m Resolving\u001b[22m\u001b[39m package versions...\n",
      "\u001b[32m\u001b[1m Installed\u001b[22m\u001b[39m NPZ ───── v0.4.0\n",
      "\u001b[32m\u001b[1m Installed\u001b[22m\u001b[39m ZipFile ─ v0.8.4\n",
      "\u001b[32m\u001b[1m  Updating\u001b[22m\u001b[39m `~/.julia/environments/v1.0/Project.toml`\n",
      " \u001b[90m [15e1cf62]\u001b[39m\u001b[92m + NPZ v0.4.0\u001b[39m\n",
      "\u001b[32m\u001b[1m  Updating\u001b[22m\u001b[39m `~/.julia/environments/v1.0/Manifest.toml`\n",
      " \u001b[90m [15e1cf62]\u001b[39m\u001b[92m + NPZ v0.4.0\u001b[39m\n",
      " \u001b[90m [a5390f91]\u001b[39m\u001b[92m + ZipFile v0.8.4\u001b[39m\n",
      "\u001b[32m\u001b[1m  Building\u001b[22m\u001b[39m ZipFile → `~/.julia/packages/ZipFile/DW0Qr/deps/build.log`\n"
     ]
    }
   ],
   "source": [
    "Pkg.add(\"NPZ\")"
   ]
  },
  {
   "cell_type": "code",
   "execution_count": 9,
   "metadata": {
    "scrolled": false
   },
   "outputs": [
    {
     "name": "stdout",
     "output_type": "stream",
     "text": [
      "\u001b[32m\u001b[1m Resolving\u001b[22m\u001b[39m package versions...\n",
      "\u001b[32m\u001b[1m  Updating\u001b[22m\u001b[39m `~/.julia/environments/v1.0/Project.toml`\n",
      "\u001b[90m [no changes]\u001b[39m\n",
      "\u001b[32m\u001b[1m  Updating\u001b[22m\u001b[39m `~/.julia/environments/v1.0/Manifest.toml`\n",
      "\u001b[90m [no changes]\u001b[39m\n",
      "\u001b[32m\u001b[1m Resolving\u001b[22m\u001b[39m package versions...\n",
      "\u001b[32m\u001b[1m  Updating\u001b[22m\u001b[39m `~/.julia/environments/v1.0/Project.toml`\n",
      "\u001b[90m [no changes]\u001b[39m\n",
      "\u001b[32m\u001b[1m  Updating\u001b[22m\u001b[39m `~/.julia/environments/v1.0/Manifest.toml`\n",
      "\u001b[90m [no changes]\u001b[39m\n",
      "\u001b[32m\u001b[1m Resolving\u001b[22m\u001b[39m package versions...\n",
      "\u001b[32m\u001b[1m Installed\u001b[22m\u001b[39m DataAPI ────────────── v1.4.0\n",
      "\u001b[32m\u001b[1m Installed\u001b[22m\u001b[39m AbstractFFTs ───────── v0.5.0\n",
      "\u001b[32m\u001b[1m Installed\u001b[22m\u001b[39m Mocking ────────────── v0.7.1\n",
      "\u001b[32m\u001b[1m Installed\u001b[22m\u001b[39m DelayEmbeddings ────── v1.10.1\n",
      "\u001b[32m\u001b[1m Installed\u001b[22m\u001b[39m FFTW ───────────────── v1.1.0\n",
      "\u001b[32m\u001b[1m Installed\u001b[22m\u001b[39m ExprTools ──────────── v0.1.3\n",
      "\u001b[32m\u001b[1m Installed\u001b[22m\u001b[39m OffsetArrays ───────── v1.3.1\n",
      "\u001b[32m\u001b[1m Installed\u001b[22m\u001b[39m EzXML ──────────────── v1.0.0\n",
      "\u001b[32m\u001b[1m Installed\u001b[22m\u001b[39m StatsBase ──────────── v0.33.2\n",
      "\u001b[32m\u001b[1m Installed\u001b[22m\u001b[39m ChaosTools ─────────── v1.14.0\n",
      "\u001b[32m\u001b[1m Installed\u001b[22m\u001b[39m FillArrays ─────────── v0.9.7\n",
      "\u001b[32m\u001b[1m Installed\u001b[22m\u001b[39m StatsFuns ──────────── v0.9.5\n",
      "\u001b[32m\u001b[1m Installed\u001b[22m\u001b[39m Distances ──────────── v0.9.2\n",
      "\u001b[32m\u001b[1m Installed\u001b[22m\u001b[39m QuadGK ─────────────── v2.4.1\n",
      "\u001b[32m\u001b[1m Installed\u001b[22m\u001b[39m Neighborhood ───────── v0.2.0\n",
      "\u001b[32m\u001b[1m Installed\u001b[22m\u001b[39m DynamicalSystemsBase ─ v1.5.7\n",
      "\u001b[32m\u001b[1m Installed\u001b[22m\u001b[39m LombScargle ────────── v0.5.1\n",
      "\u001b[32m\u001b[1m Installed\u001b[22m\u001b[39m TimeZones ──────────── v1.5.0\n",
      "\u001b[32m\u001b[1m Installed\u001b[22m\u001b[39m Missings ───────────── v0.4.4\n",
      "\u001b[32m\u001b[1m Installed\u001b[22m\u001b[39m Rmath ──────────────── v0.6.0\n",
      "\u001b[32m\u001b[1m Installed\u001b[22m\u001b[39m Combinatorics ──────── v1.0.2\n",
      "\u001b[32m\u001b[1m Installed\u001b[22m\u001b[39m NearestNeighbors ───── v0.4.7\n",
      "\u001b[32m\u001b[1m Installed\u001b[22m\u001b[39m PDMats ─────────────── v0.10.1\n",
      "\u001b[32m\u001b[1m Installed\u001b[22m\u001b[39m SimpleDiffEq ───────── v1.3.0\n",
      "\u001b[32m\u001b[1m Installed\u001b[22m\u001b[39m DSP ────────────────── v0.6.8\n",
      "\u001b[32m\u001b[1m Installed\u001b[22m\u001b[39m Distributions ──────── v0.23.12\n",
      "\u001b[32m\u001b[1m Installed\u001b[22m\u001b[39m Calculus ───────────── v0.5.1\n",
      "\u001b[32m\u001b[1m Installed\u001b[22m\u001b[39m IterTools ──────────── v1.3.0\n",
      "\u001b[32m\u001b[1m Installed\u001b[22m\u001b[39m Measurements ───────── v2.3.0\n",
      "\u001b[32m\u001b[1m Installed\u001b[22m\u001b[39m Intervals ──────────── v1.5.0\n",
      "\u001b[32m\u001b[1m Installed\u001b[22m\u001b[39m Polynomials ────────── v1.1.11\n",
      "\u001b[32m\u001b[1m Installed\u001b[22m\u001b[39m SortingAlgorithms ──── v0.3.1\n",
      "\u001b[32m\u001b[1m  Updating\u001b[22m\u001b[39m `~/.julia/environments/v1.0/Project.toml`\n",
      " \u001b[90m [608a59af]\u001b[39m\u001b[92m + ChaosTools v1.14.0\u001b[39m\n",
      "\u001b[32m\u001b[1m  Updating\u001b[22m\u001b[39m `~/.julia/environments/v1.0/Manifest.toml`\n",
      " \u001b[90m [621f4979]\u001b[39m\u001b[92m + AbstractFFTs v0.5.0\u001b[39m\n",
      " \u001b[90m [49dc2e85]\u001b[39m\u001b[92m + Calculus v0.5.1\u001b[39m\n",
      " \u001b[90m [608a59af]\u001b[39m\u001b[92m + ChaosTools v1.14.0\u001b[39m\n",
      " \u001b[90m [861a8166]\u001b[39m\u001b[92m + Combinatorics v1.0.2\u001b[39m\n",
      " \u001b[90m [717857b8]\u001b[39m\u001b[92m + DSP v0.6.8\u001b[39m\n",
      " \u001b[90m [9a962f9c]\u001b[39m\u001b[92m + DataAPI v1.4.0\u001b[39m\n",
      " \u001b[90m [5732040d]\u001b[39m\u001b[92m + DelayEmbeddings v1.10.1\u001b[39m\n",
      " \u001b[90m [b4f34e82]\u001b[39m\u001b[92m + Distances v0.9.2\u001b[39m\n",
      " \u001b[90m [31c24e10]\u001b[39m\u001b[92m + Distributions v0.23.12\u001b[39m\n",
      " \u001b[90m [6e36e845]\u001b[39m\u001b[92m + DynamicalSystemsBase v1.5.7\u001b[39m\n",
      " \u001b[90m [e2ba6199]\u001b[39m\u001b[92m + ExprTools v0.1.3\u001b[39m\n",
      " \u001b[90m [8f5d6c58]\u001b[39m\u001b[92m + EzXML v1.0.0\u001b[39m\n",
      " \u001b[90m [7a1cc6ca]\u001b[39m\u001b[92m + FFTW v1.1.0\u001b[39m\n",
      " \u001b[90m [1a297f60]\u001b[39m\u001b[92m + FillArrays v0.9.7\u001b[39m\n",
      " \u001b[90m [d8418881]\u001b[39m\u001b[92m + Intervals v1.5.0\u001b[39m\n",
      " \u001b[90m [c8e1da08]\u001b[39m\u001b[92m + IterTools v1.3.0\u001b[39m\n",
      " \u001b[90m [fc60dff9]\u001b[39m\u001b[92m + LombScargle v0.5.1\u001b[39m\n",
      " \u001b[90m [eff96d63]\u001b[39m\u001b[92m + Measurements v2.3.0\u001b[39m\n",
      " \u001b[90m [e1d29d7a]\u001b[39m\u001b[92m + Missings v0.4.4\u001b[39m\n",
      " \u001b[90m [78c3b35d]\u001b[39m\u001b[92m + Mocking v0.7.1\u001b[39m\n",
      " \u001b[90m [b8a86587]\u001b[39m\u001b[92m + NearestNeighbors v0.4.7\u001b[39m\n",
      " \u001b[90m [645ca80c]\u001b[39m\u001b[92m + Neighborhood v0.2.0\u001b[39m\n",
      " \u001b[90m [6fe1bfb0]\u001b[39m\u001b[92m + OffsetArrays v1.3.1\u001b[39m\n",
      " \u001b[90m [90014a1f]\u001b[39m\u001b[92m + PDMats v0.10.1\u001b[39m\n",
      " \u001b[90m [f27b6e38]\u001b[39m\u001b[92m + Polynomials v1.1.11\u001b[39m\n",
      " \u001b[90m [1fd47b50]\u001b[39m\u001b[92m + QuadGK v2.4.1\u001b[39m\n",
      " \u001b[90m [79098fc4]\u001b[39m\u001b[92m + Rmath v0.6.0\u001b[39m\n",
      " \u001b[90m [05bca326]\u001b[39m\u001b[92m + SimpleDiffEq v1.3.0\u001b[39m\n",
      " \u001b[90m [a2af1166]\u001b[39m\u001b[92m + SortingAlgorithms v0.3.1\u001b[39m\n",
      " \u001b[90m [2913bbd2]\u001b[39m\u001b[92m + StatsBase v0.33.2\u001b[39m\n",
      " \u001b[90m [4c63d2b9]\u001b[39m\u001b[92m + StatsFuns v0.9.5\u001b[39m\n",
      " \u001b[90m [f269a46b]\u001b[39m\u001b[92m + TimeZones v1.5.0\u001b[39m\n",
      "\u001b[32m\u001b[1m  Building\u001b[22m\u001b[39m FFTW ─────→ `~/.julia/packages/FFTW/loJ3F/deps/build.log`\n",
      "\u001b[32m\u001b[1m  Building\u001b[22m\u001b[39m EzXML ────→ `~/.julia/packages/EzXML/BF7Lf/deps/build.log`\n",
      "\u001b[32m\u001b[1m  Building\u001b[22m\u001b[39m TimeZones → `~/.julia/packages/TimeZones/fr1IP/deps/build.log`\n",
      "\u001b[32m\u001b[1m  Building\u001b[22m\u001b[39m Rmath ────→ `~/.julia/packages/Rmath/BoBag/deps/build.log`\n",
      "\u001b[32m\u001b[1m Resolving\u001b[22m\u001b[39m package versions...\n",
      "\u001b[32m\u001b[1m Installed\u001b[22m\u001b[39m Crayons ──────────── v4.0.4\n",
      "\u001b[32m\u001b[1m Installed\u001b[22m\u001b[39m Distances ────────── v0.8.2\n",
      "\u001b[32m\u001b[1m Installed\u001b[22m\u001b[39m NearestNeighbors ─── v0.4.4\n",
      "\u001b[32m\u001b[1m Installed\u001b[22m\u001b[39m RecurrenceAnalysis ─ v1.2.0\n",
      "\u001b[32m\u001b[1m Installed\u001b[22m\u001b[39m DynamicalSystems ─── v1.4.0\n",
      "\u001b[32m\u001b[1m Installed\u001b[22m\u001b[39m UnicodePlots ─────── v1.3.0\n",
      "\u001b[32m\u001b[1m  Updating\u001b[22m\u001b[39m `~/.julia/environments/v1.0/Project.toml`\n",
      " \u001b[90m [61744808]\u001b[39m\u001b[92m + DynamicalSystems v1.4.0\u001b[39m\n",
      "\u001b[32m\u001b[1m  Updating\u001b[22m\u001b[39m `~/.julia/environments/v1.0/Manifest.toml`\n",
      " \u001b[90m [a8cc5b0e]\u001b[39m\u001b[92m + Crayons v4.0.4\u001b[39m\n",
      " \u001b[90m [b4f34e82]\u001b[39m\u001b[95m ↓ Distances v0.9.2 ⇒ v0.8.2\u001b[39m\n",
      " \u001b[90m [61744808]\u001b[39m\u001b[92m + DynamicalSystems v1.4.0\u001b[39m\n",
      " \u001b[90m [b8a86587]\u001b[39m\u001b[95m ↓ NearestNeighbors v0.4.7 ⇒ v0.4.4\u001b[39m\n",
      " \u001b[90m [639c3291]\u001b[39m\u001b[92m + RecurrenceAnalysis v1.2.0\u001b[39m\n",
      " \u001b[90m [b8865327]\u001b[39m\u001b[92m + UnicodePlots v1.3.0\u001b[39m\n",
      "\u001b[32m\u001b[1m Resolving\u001b[22m\u001b[39m package versions...\n",
      "\u001b[32m\u001b[1m Installed\u001b[22m\u001b[39m BenchmarkTools ─ v0.5.0\n",
      "\u001b[32m\u001b[1m  Updating\u001b[22m\u001b[39m `~/.julia/environments/v1.0/Project.toml`\n",
      " \u001b[90m [6e4b80f9]\u001b[39m\u001b[92m + BenchmarkTools v0.5.0\u001b[39m\n",
      "\u001b[32m\u001b[1m  Updating\u001b[22m\u001b[39m `~/.julia/environments/v1.0/Manifest.toml`\n",
      " \u001b[90m [6e4b80f9]\u001b[39m\u001b[92m + BenchmarkTools v0.5.0\u001b[39m\n"
     ]
    }
   ],
   "source": [
    "Pkg.add(\"LinearAlgebra\")\n",
    "Pkg.add(\"PyPlot\")\n",
    "Pkg.add(\"ChaosTools\")\n",
    "Pkg.add(\"DynamicalSystems\")\n",
    "Pkg.add(\"BenchmarkTools\")"
   ]
  },
  {
   "cell_type": "code",
   "execution_count": null,
   "metadata": {},
   "outputs": [],
   "source": []
  }
 ],
 "metadata": {
  "kernelspec": {
   "display_name": "Julia 1.0.3",
   "language": "julia",
   "name": "julia-1.0"
  },
  "language_info": {
   "file_extension": ".jl",
   "mimetype": "application/julia",
   "name": "julia",
   "version": "1.0.3"
  }
 },
 "nbformat": 4,
 "nbformat_minor": 4
}
